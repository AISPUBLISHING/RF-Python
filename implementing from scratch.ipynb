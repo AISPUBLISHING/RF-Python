{
 "cells": [
  {
   "cell_type": "code",
   "execution_count": 17,
   "metadata": {},
   "outputs": [],
   "source": [
    "import pandas as pd\n",
    "df = pd.read_csv('final_dataset.csv', header = None)"
   ]
  },
  {
   "cell_type": "code",
   "execution_count": 18,
   "metadata": {},
   "outputs": [],
   "source": [
    "df = df.sample(frac = 1)\n",
    "data_list = df.values.tolist()"
   ]
  },
  {
   "cell_type": "code",
   "execution_count": 20,
   "metadata": {},
   "outputs": [
    {
     "data": {
      "text/plain": [
       "891"
      ]
     },
     "execution_count": 20,
     "metadata": {},
     "output_type": "execute_result"
    }
   ],
   "source": [
    "data_list.__len__()"
   ]
  },
  {
   "cell_type": "code",
   "execution_count": 35,
   "metadata": {},
   "outputs": [],
   "source": [
    "training_data = data_list[0:800]\n",
    "testing_data = data_list[800:891]"
   ]
  },
  {
   "cell_type": "code",
   "execution_count": 23,
   "metadata": {},
   "outputs": [],
   "source": [
    "def unique_vals(rows, col):\n",
    "    return set([row[col] for row in rows])"
   ]
  },
  {
   "cell_type": "code",
   "execution_count": 24,
   "metadata": {},
   "outputs": [],
   "source": [
    "def class_counts(rows):\n",
    "    counts = {}\n",
    "    for row in rows:\n",
    "        label = row[-1]\n",
    "        if label not in counts:\n",
    "            counts[label] = 0\n",
    "        counts[label] += 1\n",
    "    return counts"
   ]
  },
  {
   "cell_type": "code",
   "execution_count": 25,
   "metadata": {},
   "outputs": [],
   "source": [
    "def is_num(value):\n",
    "    return isinstance(value, int) or isinstance(value, float)"
   ]
  },
  {
   "cell_type": "code",
   "execution_count": 26,
   "metadata": {},
   "outputs": [],
   "source": [
    "class Question:\n",
    "    def __init__(self, col, val):\n",
    "        self.column = col\n",
    "        self.value = val\n",
    "        \n",
    "    def match(self, example):\n",
    "        val = example[self.column]\n",
    "        if is_num(val):\n",
    "            return val >= self.value\n",
    "        else:\n",
    "            return val ==  self.value"
   ]
  },
  {
   "cell_type": "code",
   "execution_count": 27,
   "metadata": {},
   "outputs": [],
   "source": [
    "def partition(rows, question):\n",
    "    true_rows, false_rows = [], []\n",
    "    for row in rows:\n",
    "        if question.match(row):\n",
    "            true_rows.append(row)\n",
    "        else:\n",
    "            false_rows.append(row)\n",
    "    return true_rows, false_rows"
   ]
  },
  {
   "cell_type": "code",
   "execution_count": 28,
   "metadata": {},
   "outputs": [],
   "source": [
    "def gini(rows):\n",
    "    counts = class_counts(rows)\n",
    "    impurity = 1\n",
    "    for lbl in counts:\n",
    "        prob_of_lbl =  counts[lbl] / float(len(rows))\n",
    "        impurity -= prob_of_lbl ** 2\n",
    "    return impurity"
   ]
  },
  {
   "cell_type": "code",
   "execution_count": 42,
   "metadata": {},
   "outputs": [],
   "source": [
    "def information_gain(left, right, current_impurity):\n",
    "    prob = float(len(left)) / (len(left) + len(right))\n",
    "    return current_impurity - prob * gini(left) - (1 - prob) * gini(right)"
   ]
  },
  {
   "cell_type": "code",
   "execution_count": 29,
   "metadata": {},
   "outputs": [],
   "source": [
    "def best_split(rows):\n",
    "    best_gain = 0\n",
    "    best_question = None\n",
    "    current_impurity = gini(rows)\n",
    "    n_features = len(rows[0])-1\n",
    "    \n",
    "    for col in range(n_features):\n",
    "        values = set([row[col] for row in rows])\n",
    "        for val in values:\n",
    "            question = Question(col, val)\n",
    "            true_rows, false_rows = partition(rows, question)\n",
    "            \n",
    "            if len(true_rows) == 0 or len(false_rows) == 0:\n",
    "                continue\n",
    "                \n",
    "            gain = information_gain(true_rows, false_rows, current_impurity)\n",
    "            \n",
    "            if gain >= best_gain:\n",
    "                best_gain, best_question = gain, question\n",
    "    return best_gain, best_question"
   ]
  },
  {
   "cell_type": "code",
   "execution_count": 44,
   "metadata": {},
   "outputs": [],
   "source": [
    "class Leaf:\n",
    "    def __init__(self, rows):\n",
    "        self.predictions = class_counts(rows)"
   ]
  },
  {
   "cell_type": "code",
   "execution_count": 31,
   "metadata": {},
   "outputs": [],
   "source": [
    "class DecisionNode:\n",
    "    def __init__(self, question, true_branch, false_branch):\n",
    "        self.question = question\n",
    "        self.true_branch = true_branch\n",
    "        self.false_branch = false_branch"
   ]
  },
  {
   "cell_type": "code",
   "execution_count": 32,
   "metadata": {},
   "outputs": [],
   "source": [
    "def build_tree(rows):\n",
    "    gain, question = best_split(rows)\n",
    "    \n",
    "    if gain == 0:\n",
    "        return Leaf(rows)\n",
    "    \n",
    "    true_rows, false_rows = partition(rows, question)\n",
    "    \n",
    "    true_branch = build_tree(true_rows)\n",
    "    false_branch = build_tree(false_rows)\n",
    "    \n",
    "    return DecisionNode(question, true_branch, false_branch)"
   ]
  },
  {
   "cell_type": "code",
   "execution_count": 33,
   "metadata": {},
   "outputs": [],
   "source": [
    "def classify(row, node):\n",
    "    if isinstance(node, Leaf):\n",
    "        return node.predictions\n",
    "    \n",
    "    if node.question.match(row):\n",
    "        return classify(row, node.true_branch)\n",
    "    else:\n",
    "        return classify(row, node.false_branch)"
   ]
  },
  {
   "cell_type": "code",
   "execution_count": 45,
   "metadata": {},
   "outputs": [],
   "source": [
    "my_tree = build_tree(training_data)"
   ]
  },
  {
   "cell_type": "code",
   "execution_count": 49,
   "metadata": {},
   "outputs": [],
   "source": [
    "test = testing_data[0:1][0][0:-1]"
   ]
  },
  {
   "cell_type": "code",
   "execution_count": 72,
   "metadata": {},
   "outputs": [
    {
     "data": {
      "text/plain": [
       "{0.0: 4}"
      ]
     },
     "execution_count": 72,
     "metadata": {},
     "output_type": "execute_result"
    }
   ],
   "source": [
    "classify(test, my_tree)"
   ]
  },
  {
   "cell_type": "code",
   "execution_count": 74,
   "metadata": {},
   "outputs": [
    {
     "name": "stdout",
     "output_type": "stream",
     "text": [
      "Actual: 0.0. Predicted: 0.0\n",
      "Actual: 1.0. Predicted: 1.0\n",
      "Actual: 0.0. Predicted: 0.0\n",
      "Actual: 0.0. Predicted: 1.0\n",
      "Actual: 1.0. Predicted: 1.0\n",
      "Actual: 0.0. Predicted: 0.0\n",
      "Actual: 0.0. Predicted: 0.0\n",
      "Actual: 0.0. Predicted: 0.0\n",
      "Actual: 0.0. Predicted: 1.0\n",
      "Actual: 0.0. Predicted: 0.0\n",
      "Actual: 1.0. Predicted: 0.0\n",
      "Actual: 1.0. Predicted: 1.0\n",
      "Actual: 0.0. Predicted: 0.0\n",
      "Actual: 0.0. Predicted: 0.0\n",
      "Actual: 1.0. Predicted: 1.0\n",
      "Actual: 0.0. Predicted: 0.0\n",
      "Actual: 0.0. Predicted: 0.0\n",
      "Actual: 0.0. Predicted: 0.0\n",
      "Actual: 0.0. Predicted: 0.0\n",
      "Actual: 0.0. Predicted: 0.0\n",
      "Actual: 0.0. Predicted: 0.0\n",
      "Actual: 1.0. Predicted: 1.0\n",
      "Actual: 1.0. Predicted: 1.0\n",
      "Actual: 0.0. Predicted: 0.0\n",
      "Actual: 0.0. Predicted: 0.0\n",
      "Actual: 1.0. Predicted: 0.0\n",
      "Actual: 1.0. Predicted: 1.0\n",
      "Actual: 1.0. Predicted: 1.0\n",
      "Actual: 1.0. Predicted: 0.0\n",
      "Actual: 0.0. Predicted: 0.0\n",
      "Actual: 1.0. Predicted: 1.0\n",
      "Actual: 0.0. Predicted: 0.0\n",
      "Actual: 0.0. Predicted: 0.0\n",
      "Actual: 0.0. Predicted: 0.0\n",
      "Actual: 0.0. Predicted: 0.0\n",
      "Actual: 0.0. Predicted: 1.0\n",
      "Actual: 1.0. Predicted: 1.0\n",
      "Actual: 1.0. Predicted: 1.0\n",
      "Actual: 1.0. Predicted: 1.0\n",
      "Actual: 1.0. Predicted: 1.0\n",
      "Actual: 0.0. Predicted: 0.0\n",
      "Actual: 1.0. Predicted: 1.0\n",
      "Actual: 0.0. Predicted: 0.0\n",
      "Actual: 1.0. Predicted: 0.0\n",
      "Actual: 1.0. Predicted: 1.0\n",
      "Actual: 1.0. Predicted: 0.0\n",
      "Actual: 0.0. Predicted: 0.0\n",
      "Actual: 0.0. Predicted: 0.0\n",
      "Actual: 0.0. Predicted: 0.0\n",
      "Actual: 1.0. Predicted: 1.0\n",
      "Actual: 0.0. Predicted: 0.0\n",
      "Actual: 0.0. Predicted: 0.0\n",
      "Actual: 0.0. Predicted: 0.0\n",
      "Actual: 1.0. Predicted: 1.0\n",
      "Actual: 0.0. Predicted: 0.0\n",
      "Actual: 0.0. Predicted: 0.0\n",
      "Actual: 1.0. Predicted: 1.0\n",
      "Actual: 0.0. Predicted: 0.0\n",
      "Actual: 0.0. Predicted: 0.0\n",
      "Actual: 1.0. Predicted: 1.0\n",
      "Actual: 1.0. Predicted: 0.0\n",
      "Actual: 0.0. Predicted: 0.0\n",
      "Actual: 1.0. Predicted: 1.0\n",
      "Actual: 1.0. Predicted: 1.0\n",
      "Actual: 1.0. Predicted: 1.0\n",
      "Actual: 0.0. Predicted: 1.0\n",
      "Actual: 1.0. Predicted: 1.0\n",
      "Actual: 0.0. Predicted: 1.0\n",
      "Actual: 1.0. Predicted: 0.0\n",
      "Actual: 0.0. Predicted: 0.0\n",
      "Actual: 0.0. Predicted: 0.0\n",
      "Actual: 0.0. Predicted: 0.0\n",
      "Actual: 0.0. Predicted: 0.0\n",
      "Actual: 1.0. Predicted: 1.0\n",
      "Actual: 1.0. Predicted: 1.0\n",
      "Actual: 1.0. Predicted: 0.0\n",
      "Actual: 0.0. Predicted: 0.0\n",
      "Actual: 0.0. Predicted: 1.0\n",
      "Actual: 0.0. Predicted: 1.0\n",
      "Actual: 1.0. Predicted: 0.0\n",
      "Actual: 0.0. Predicted: 0.0\n",
      "Actual: 0.0. Predicted: 0.0\n",
      "Actual: 0.0. Predicted: 0.0\n",
      "Actual: 0.0. Predicted: 0.0\n",
      "Actual: 0.0. Predicted: 0.0\n",
      "Actual: 1.0. Predicted: 0.0\n",
      "Actual: 1.0. Predicted: 1.0\n",
      "Actual: 1.0. Predicted: 1.0\n",
      "Actual: 1.0. Predicted: 0.0\n",
      "Actual: 1.0. Predicted: 0.0\n",
      "Actual: 0.0. Predicted: 0.0\n",
      "Accuracy is :  79.12087912087912\n"
     ]
    }
   ],
   "source": [
    "correct_count = 0\n",
    "for row in testing_data:\n",
    "    prediction = list(classify(row[0:-1], my_tree).keys())[0]\n",
    "    actual_value = row[-1]\n",
    "    if prediction == actual_value:\n",
    "        correct_count += 1\n",
    "    print(\"Actual: %s. Predicted: %s\" %(actual_value, prediction))\n",
    "accuracy = correct_count / len(testing_data) * 100\n",
    "print(\"Accuracy is : \", accuracy)"
   ]
  },
  {
   "cell_type": "code",
   "execution_count": null,
   "metadata": {},
   "outputs": [],
   "source": [
    "from sklearn.ensemble import RandomForestRegressor\n",
    "from sklearn.ensemble import RandomForestClassifier"
   ]
  },
  {
   "cell_type": "code",
   "execution_count": null,
   "metadata": {},
   "outputs": [],
   "source": []
  },
  {
   "cell_type": "code",
   "execution_count": null,
   "metadata": {},
   "outputs": [],
   "source": []
  },
  {
   "cell_type": "code",
   "execution_count": null,
   "metadata": {},
   "outputs": [],
   "source": []
  }
 ],
 "metadata": {
  "kernelspec": {
   "display_name": "Python 3",
   "language": "python",
   "name": "python3"
  },
  "language_info": {
   "codemirror_mode": {
    "name": "ipython",
    "version": 3
   },
   "file_extension": ".py",
   "mimetype": "text/x-python",
   "name": "python",
   "nbconvert_exporter": "python",
   "pygments_lexer": "ipython3",
   "version": "3.6.9"
  }
 },
 "nbformat": 4,
 "nbformat_minor": 2
}
